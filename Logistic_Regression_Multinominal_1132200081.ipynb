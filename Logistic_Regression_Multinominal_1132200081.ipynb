{
 "cells": [
  {
   "cell_type": "code",
   "execution_count": 1,
   "metadata": {},
   "outputs": [],
   "source": [
    "#import libraries\n",
    "\n",
    "#NUmber crunching\n",
    "import pandas as pd\n",
    "import numpy as np\n",
    "\n",
    "#Plots and graphs\n",
    "import matplotlib.pyplot as plt  \n",
    "\n",
    "#Pre-processing\n",
    "from sklearn.preprocessing import LabelEncoder\n",
    "from sklearn.preprocessing import StandardScaler\n",
    "\n",
    "#Model building\n",
    "from sklearn.model_selection import train_test_split \n",
    "from sklearn.linear_model import LogisticRegression\n",
    "\n",
    "%matplotlib inline"
   ]
  },
  {
   "cell_type": "code",
   "execution_count": 2,
   "metadata": {},
   "outputs": [
    {
     "name": "stdout",
     "output_type": "stream",
     "text": [
      "D:\\MSC\\Trimester2\\LabonML\\Datasets\n"
     ]
    }
   ],
   "source": [
    "%cd D:\\MSC\\Trimester2\\LabonML\\Datasets"
   ]
  },
  {
   "cell_type": "code",
   "execution_count": 3,
   "metadata": {},
   "outputs": [],
   "source": [
    "dataset = pd.read_json('iris.json')"
   ]
  },
  {
   "cell_type": "code",
   "execution_count": 4,
   "metadata": {},
   "outputs": [
    {
     "data": {
      "text/plain": [
       "(150, 5)"
      ]
     },
     "execution_count": 4,
     "metadata": {},
     "output_type": "execute_result"
    }
   ],
   "source": [
    "dataset.shape"
   ]
  },
  {
   "cell_type": "code",
   "execution_count": 5,
   "metadata": {},
   "outputs": [
    {
     "data": {
      "text/html": [
       "<div>\n",
       "<style scoped>\n",
       "    .dataframe tbody tr th:only-of-type {\n",
       "        vertical-align: middle;\n",
       "    }\n",
       "\n",
       "    .dataframe tbody tr th {\n",
       "        vertical-align: top;\n",
       "    }\n",
       "\n",
       "    .dataframe thead th {\n",
       "        text-align: right;\n",
       "    }\n",
       "</style>\n",
       "<table border=\"1\" class=\"dataframe\">\n",
       "  <thead>\n",
       "    <tr style=\"text-align: right;\">\n",
       "      <th></th>\n",
       "      <th>sepalLength</th>\n",
       "      <th>sepalWidth</th>\n",
       "      <th>petalLength</th>\n",
       "      <th>petalWidth</th>\n",
       "      <th>species</th>\n",
       "    </tr>\n",
       "  </thead>\n",
       "  <tbody>\n",
       "    <tr>\n",
       "      <th>0</th>\n",
       "      <td>5.1</td>\n",
       "      <td>3.5</td>\n",
       "      <td>1.4</td>\n",
       "      <td>0.2</td>\n",
       "      <td>setosa</td>\n",
       "    </tr>\n",
       "    <tr>\n",
       "      <th>1</th>\n",
       "      <td>4.9</td>\n",
       "      <td>3.0</td>\n",
       "      <td>1.4</td>\n",
       "      <td>0.2</td>\n",
       "      <td>setosa</td>\n",
       "    </tr>\n",
       "    <tr>\n",
       "      <th>2</th>\n",
       "      <td>4.7</td>\n",
       "      <td>3.2</td>\n",
       "      <td>1.3</td>\n",
       "      <td>0.2</td>\n",
       "      <td>setosa</td>\n",
       "    </tr>\n",
       "    <tr>\n",
       "      <th>3</th>\n",
       "      <td>4.6</td>\n",
       "      <td>3.1</td>\n",
       "      <td>1.5</td>\n",
       "      <td>0.2</td>\n",
       "      <td>setosa</td>\n",
       "    </tr>\n",
       "    <tr>\n",
       "      <th>4</th>\n",
       "      <td>5.0</td>\n",
       "      <td>3.6</td>\n",
       "      <td>1.4</td>\n",
       "      <td>0.2</td>\n",
       "      <td>setosa</td>\n",
       "    </tr>\n",
       "  </tbody>\n",
       "</table>\n",
       "</div>"
      ],
      "text/plain": [
       "   sepalLength  sepalWidth  petalLength  petalWidth species\n",
       "0          5.1         3.5          1.4         0.2  setosa\n",
       "1          4.9         3.0          1.4         0.2  setosa\n",
       "2          4.7         3.2          1.3         0.2  setosa\n",
       "3          4.6         3.1          1.5         0.2  setosa\n",
       "4          5.0         3.6          1.4         0.2  setosa"
      ]
     },
     "execution_count": 5,
     "metadata": {},
     "output_type": "execute_result"
    }
   ],
   "source": [
    "dataset.head()"
   ]
  },
  {
   "cell_type": "code",
   "execution_count": 26,
   "metadata": {},
   "outputs": [
    {
     "data": {
      "text/plain": [
       "((120, 4), (30, 4))"
      ]
     },
     "execution_count": 26,
     "metadata": {},
     "output_type": "execute_result"
    }
   ],
   "source": [
    "X = dataset.iloc[:, [0,1,2,3]].values\n",
    "y = dataset['species']\n",
    "\n",
    "ds_train, ds_test, y_train, y_test = train_test_split(X, y, test_size = 0.2, random_state = 0)\n",
    "\n",
    "#ds_train, ds_test = train_test_split(dataset, test_size=0.2, random_state=0)\n",
    "ds_train.shape, ds_test.shape"
   ]
  },
  {
   "cell_type": "code",
   "execution_count": 27,
   "metadata": {},
   "outputs": [
    {
     "data": {
      "text/plain": [
       "dtype('float64')"
      ]
     },
     "execution_count": 27,
     "metadata": {},
     "output_type": "execute_result"
    }
   ],
   "source": [
    "ds_train.dtype"
   ]
  },
  {
   "cell_type": "code",
   "execution_count": 28,
   "metadata": {},
   "outputs": [],
   "source": [
    "label_encoder = LabelEncoder()\n",
    "label_encoder.fit(y_train)\n",
    "y_train = label_encoder.transform(y_train)\n",
    "y_test = label_encoder.transform(y_test)"
   ]
  },
  {
   "cell_type": "code",
   "execution_count": 29,
   "metadata": {},
   "outputs": [],
   "source": [
    "sc = StandardScaler()\n",
    "ds_train = sc.fit_transform(ds_train)\n",
    "ds_test = sc.transform(ds_test)"
   ]
  },
  {
   "cell_type": "code",
   "execution_count": 30,
   "metadata": {},
   "outputs": [
    {
     "data": {
      "text/plain": [
       "LogisticRegression(multi_class='multinomial', random_state=0)"
      ]
     },
     "execution_count": 30,
     "metadata": {},
     "output_type": "execute_result"
    }
   ],
   "source": [
    "logreg = LogisticRegression(random_state = 0, solver='lbfgs', multi_class='multinomial')\n",
    "logreg.fit(ds_train, y_train)"
   ]
  },
  {
   "cell_type": "code",
   "execution_count": 31,
   "metadata": {},
   "outputs": [],
   "source": [
    "y_pred = logreg.predict(ds_test)\n",
    "# Predict probabilities\n",
    "y_pred_prob=logreg.predict_proba(ds_test)"
   ]
  },
  {
   "cell_type": "code",
   "execution_count": 32,
   "metadata": {},
   "outputs": [
    {
     "name": "stdout",
     "output_type": "stream",
     "text": [
      "[[11  0  0]\n",
      " [ 0 13  0]\n",
      " [ 0  0  6]]\n"
     ]
    }
   ],
   "source": [
    "from sklearn.metrics import confusion_matrix\n",
    "conf_mat = confusion_matrix(y_test, y_pred)\n",
    "print(conf_mat)"
   ]
  },
  {
   "cell_type": "code",
   "execution_count": 33,
   "metadata": {},
   "outputs": [
    {
     "data": {
      "text/plain": [
       "1.0"
      ]
     },
     "execution_count": 33,
     "metadata": {},
     "output_type": "execute_result"
    }
   ],
   "source": [
    "logreg.score(ds_test,y_test)"
   ]
  },
  {
   "cell_type": "code",
   "execution_count": 34,
   "metadata": {},
   "outputs": [
    {
     "name": "stdout",
     "output_type": "stream",
     "text": [
      "y_test | y_pred | Setosa(%) | Versicolor(%) | Virginica(%)\n",
      "2 | 2 | 0.0 | 0.03 | 0.97\n",
      "1 | 1 | 0.01 | 0.96 | 0.04\n",
      "0 | 0 | 1.0 | 0.0 | 0.0\n",
      "2 | 2 | 0.0 | 0.08 | 0.92\n",
      "0 | 0 | 0.98 | 0.02 | 0.0\n",
      "2 | 2 | 0.0 | 0.01 | 0.99\n",
      "0 | 0 | 0.98 | 0.02 | 0.0\n",
      "1 | 1 | 0.01 | 0.71 | 0.28\n",
      "1 | 1 | 0.0 | 0.73 | 0.27\n",
      "1 | 1 | 0.02 | 0.9 | 0.08\n",
      "2 | 2 | 0.0 | 0.48 | 0.52\n",
      "1 | 1 | 0.02 | 0.76 | 0.22\n",
      "1 | 1 | 0.01 | 0.87 | 0.12\n",
      "1 | 1 | 0.0 | 0.7 | 0.3\n",
      "1 | 1 | 0.01 | 0.77 | 0.22\n",
      "0 | 0 | 0.99 | 0.01 | 0.0\n",
      "1 | 1 | 0.01 | 0.74 | 0.25\n",
      "1 | 1 | 0.02 | 0.89 | 0.09\n",
      "0 | 0 | 0.94 | 0.06 | 0.0\n",
      "0 | 0 | 0.99 | 0.01 | 0.0\n",
      "2 | 2 | 0.0 | 0.18 | 0.82\n",
      "1 | 1 | 0.04 | 0.74 | 0.22\n",
      "0 | 0 | 0.98 | 0.02 | 0.0\n",
      "0 | 0 | 0.96 | 0.04 | 0.0\n",
      "2 | 2 | 0.0 | 0.35 | 0.65\n",
      "0 | 0 | 1.0 | 0.0 | 0.0\n",
      "0 | 0 | 0.99 | 0.01 | 0.0\n",
      "1 | 1 | 0.02 | 0.88 | 0.1\n",
      "1 | 1 | 0.08 | 0.91 | 0.01\n",
      "0 | 0 | 0.97 | 0.03 | 0.0\n"
     ]
    }
   ],
   "source": [
    "### Print results \n",
    "y_pred_prob = np.round(y_pred_prob, 2)\n",
    "res = \"{} | {} | {} | {} | {}\".format(\"y_test\", \"y_pred\", \"Setosa(%)\", \"Versicolor(%)\", \"Virginica(%)\\n\")\n",
    "res += \"\\n\".join(\"{} | {} | {} | {} | {}\".format(x, y, a, b, c) for x, y, a, b, c in zip(y_test, y_pred, y_pred_prob[:,0], y_pred_prob[:,1], y_pred_prob[:,2]))\n",
    "print(res)"
   ]
  },
  {
   "cell_type": "code",
   "execution_count": null,
   "metadata": {},
   "outputs": [],
   "source": []
  },
  {
   "cell_type": "code",
   "execution_count": null,
   "metadata": {},
   "outputs": [],
   "source": []
  }
 ],
 "metadata": {
  "kernelspec": {
   "display_name": "Python 3",
   "language": "python",
   "name": "python3"
  },
  "language_info": {
   "codemirror_mode": {
    "name": "ipython",
    "version": 3
   },
   "file_extension": ".py",
   "mimetype": "text/x-python",
   "name": "python",
   "nbconvert_exporter": "python",
   "pygments_lexer": "ipython3",
   "version": "3.7.10"
  }
 },
 "nbformat": 4,
 "nbformat_minor": 4
}
